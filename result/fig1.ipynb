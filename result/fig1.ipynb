{
 "cells": [
  {
   "cell_type": "markdown",
   "metadata": {},
   "source": [
    "## Plotting the figure 1.\n",
    "\n",
    "The required csv files to plot the figure 1 are saved at  https://github.com/Geemjy/Geem_etal_MNRAS_2022/tree/main/data."
   ]
  },
  {
   "cell_type": "markdown",
   "metadata": {},
   "source": [
    "### Import packages and define the function"
   ]
  },
  {
   "cell_type": "code",
   "execution_count": null,
   "metadata": {},
   "outputs": [],
   "source": [
    "import matplotlib.pyplot as plt\n",
    "from matplotlib.ticker import MultipleLocator, FormatStrFormatter\n",
    "import numpy as np\n",
    "import pandas as pd\n",
    "import os\n",
    "\n",
    "D2R = 3.14/180\n",
    "def d2r(x): return np.deg2rad(x)\n",
    "def r2d(x): return np.rad2deg(x)\n",
    "def sin(x): return np.sin(x)\n",
    "def cos(x): return np.cos(x)\n",
    "def tan(x): return np.tan(x)\n",
    "def log(x): return np.log(x)\n",
    "def log10(x): return np.log10(x)\n",
    "def exp(x):\n",
    "    return np.exp(x)\n",
    "def ln(x):\n",
    "    return np.log(x)\n",
    "\n",
    "def exponential(x,a,b,c):\n",
    "    eq = a*np.exp(-x/b) -a + c*x\n",
    "    return eq \n",
    "\n",
    "def trigonal_function(alpha,h,a0,c1,c2):\n",
    "    alpha_rad = d2r(alpha)\n",
    "    a0_rad = d2r(a0)\n",
    "    D2R = 3.14/180\n",
    "    P_alpha = (h / D2R \n",
    "             * (sin(alpha_rad) / sin(a0_rad))**c1 \n",
    "             * (cos(alpha_rad / 2) / cos(a0_rad/ 2))**c2 \n",
    "             * sin(alpha_rad - a0_rad)\n",
    "            )\n",
    "    return P_alpha"
   ]
  },
  {
   "cell_type": "markdown",
   "metadata": {},
   "source": [
    "### Plot"
   ]
  },
  {
   "cell_type": "code",
   "execution_count": 1,
   "metadata": {},
   "outputs": [
    {
     "ename": "NameError",
     "evalue": "name 'os' is not defined",
     "output_type": "error",
     "traceback": [
      "\u001b[0;31m---------------------------------------------------------------------------\u001b[0m",
      "\u001b[0;31mNameError\u001b[0m                                 Traceback (most recent call last)",
      "\u001b[0;32m<ipython-input-1-9864d54c7257>\u001b[0m in \u001b[0;36m<module>\u001b[0;34m\u001b[0m\n\u001b[0;32m----> 1\u001b[0;31m \u001b[0mfilename\u001b[0m \u001b[0;34m=\u001b[0m \u001b[0mos\u001b[0m\u001b[0;34m.\u001b[0m\u001b[0mpath\u001b[0m\u001b[0;34m.\u001b[0m\u001b[0mjoin\u001b[0m\u001b[0;34m(\u001b[0m\u001b[0;34m'Phaethon_Geem_2022.csv'\u001b[0m\u001b[0;34m)\u001b[0m\u001b[0;34m\u001b[0m\u001b[0;34m\u001b[0m\u001b[0m\n\u001b[0m\u001b[1;32m      2\u001b[0m \u001b[0mresult\u001b[0m \u001b[0;34m=\u001b[0m \u001b[0mpd\u001b[0m\u001b[0;34m.\u001b[0m\u001b[0mread_csv\u001b[0m\u001b[0;34m(\u001b[0m\u001b[0mfilename\u001b[0m\u001b[0;34m)\u001b[0m\u001b[0;34m\u001b[0m\u001b[0;34m\u001b[0m\u001b[0m\n\u001b[1;32m      3\u001b[0m \u001b[0;34m\u001b[0m\u001b[0m\n\u001b[1;32m      4\u001b[0m UD = pd.DataFrame({'alpha':[68.08,63.6,55.44,33.49,29.28,25.47,11.67,8.66,106.47,87.74,44.01,39.53,35.71,24.08,20.15,2.58,0.74,2.25,4.18,7.83],\n\u001b[1;32m      5\u001b[0m                   \u001b[0;34m'Pr'\u001b[0m\u001b[0;34m:\u001b[0m\u001b[0;34m[\u001b[0m\u001b[0;36m22.73\u001b[0m\u001b[0;34m,\u001b[0m\u001b[0;36m19.33\u001b[0m\u001b[0;34m,\u001b[0m\u001b[0;36m14.09\u001b[0m\u001b[0;34m,\u001b[0m\u001b[0;36m4.22\u001b[0m\u001b[0;34m,\u001b[0m\u001b[0;36m2.39\u001b[0m\u001b[0;34m,\u001b[0m\u001b[0;36m1.43\u001b[0m\u001b[0;34m,\u001b[0m\u001b[0;34m-\u001b[0m\u001b[0;36m1.16\u001b[0m\u001b[0;34m,\u001b[0m\u001b[0;34m-\u001b[0m\u001b[0;36m1.36\u001b[0m\u001b[0;34m,\u001b[0m\u001b[0;36m51.31\u001b[0m\u001b[0;34m,\u001b[0m\u001b[0;36m43.16\u001b[0m\u001b[0;34m,\u001b[0m\u001b[0;36m8.65\u001b[0m\u001b[0;34m,\u001b[0m\u001b[0;36m6.47\u001b[0m\u001b[0;34m,\u001b[0m\u001b[0;36m4.95\u001b[0m\u001b[0;34m,\u001b[0m\u001b[0;36m1.17\u001b[0m\u001b[0;34m,\u001b[0m\u001b[0;36m0.08\u001b[0m\u001b[0;34m,\u001b[0m\u001b[0;34m-\u001b[0m\u001b[0;36m0.64\u001b[0m\u001b[0;34m,\u001b[0m\u001b[0;34m-\u001b[0m\u001b[0;36m0.33\u001b[0m\u001b[0;34m,\u001b[0m\u001b[0;34m-\u001b[0m\u001b[0;36m0.7\u001b[0m\u001b[0;34m,\u001b[0m\u001b[0;34m-\u001b[0m\u001b[0;36m0.93\u001b[0m\u001b[0;34m,\u001b[0m\u001b[0;34m-\u001b[0m\u001b[0;36m1\u001b[0m\u001b[0;34m]\u001b[0m\u001b[0;34m,\u001b[0m\u001b[0;34m\u001b[0m\u001b[0;34m\u001b[0m\u001b[0m\n",
      "\u001b[0;31mNameError\u001b[0m: name 'os' is not defined"
     ]
    }
   ],
   "source": [
    "filename = os.path.join('Phaethon_Geem_2022.csv')\n",
    "result = pd.read_csv(filename)\n",
    "\n",
    "UD = pd.DataFrame({'alpha':[68.08,63.6,55.44,33.49,29.28,25.47,11.67,8.66,106.47,87.74,44.01,39.53,35.71,24.08,20.15,2.58,0.74,2.25,4.18,7.83],\n",
    "                  'Pr':[22.73,19.33,14.09,4.22,2.39,1.43,-1.16,-1.36,51.31,43.16,8.65,6.47,4.95,1.17,0.08,-0.64,-0.33,-0.7,-0.93,-1],\n",
    "                  'eP':[3.59,0.84,1.29,0.22,0.1,0.09,0.1,0.09,3.62,0.59,0.14,0.13,0.1,0.11,0.07,0.08,0.09,0.11,0.09,0.12]})\n",
    "\n",
    "\n",
    "\n",
    "fig, ax = plt.subplots(1, 1, figsize=(8, 6.5))\n",
    "\n",
    "color=['k','k','k','k']\n",
    "marker=['s','>','^','v','o']\n",
    "\n",
    "\n",
    "for n,inst in enumerate(['Nayuta/WFGS2','Kanata/HONIR','NOT/FAPOL','NAOJ/PICO']):\n",
    "    result_inst = result[result['INST']==inst]\n",
    "    ax.errorbar(result_inst['alpha'],\n",
    "                result_inst['P'],\n",
    "                yerr = result_inst['eP'],\n",
    "                marker=marker[n],mfc='none',mec='r',ls='',ms=9,#marker\n",
    "                ecolor='salmon',elinewidth=0.8, #error\n",
    "                label=inst,zorder=10)\n",
    "    \n",
    "\n",
    "xx = np.arange(0,40,0.1)\n",
    "model_P_ver2 = trigonal_function(xx,0.224, 19.93, 0.86, 5.384)\n",
    "ax.plot(xx,model_P_ver2, 'r-',lw=1)\n",
    "model_P_exp = exponential(xx,16.406,19.515, 0.524)\n",
    "ax.plot(xx,model_P_exp, color='r',ls='-.',lw=1)\n",
    "\n",
    "\n",
    "\n",
    "ax.errorbar(UD['alpha'],UD['Pr'],UD['eP'],\n",
    "              marker='o',ls='',mec='gray',mfc='none',\n",
    "            ecolor='gray',elinewidth=0.8,label='2005 UD (Ishiguro+2022)')    \n",
    "\n",
    "    \n",
    "ax.axhline(0,ls=':',color='k')\n",
    "majorLocatorx = MultipleLocator(5)\n",
    "majorLocatory = MultipleLocator(1)\n",
    "majorFormatter = FormatStrFormatter('%d')\n",
    "minorLocator = MultipleLocator(1)\n",
    "minorLocatory = MultipleLocator(0.2)\n",
    "\n",
    "x = np.arange(15,30)\n",
    "ax.set_xlabel(r'Phase angle, $ \\alpha$ [degree]', size = 23)\n",
    "ax.set_ylabel(r\"$P_r(\\alpha)$ [%]\",size = 23)\n",
    "ax.set_xlim(0, 33.5)\n",
    "ax.set_ylim(-2.5, 4)                \n",
    "ax.xaxis.set_major_locator(majorLocatorx)\n",
    "ax.yaxis.set_major_locator(majorLocatory)\n",
    "ax.xaxis.set_major_formatter(majorFormatter)            \n",
    "ax.xaxis.set_minor_locator(minorLocator)\n",
    "ax.yaxis.set_minor_locator(minorLocatory)\n",
    "ax.tick_params(axis = 'both', which='minor', length=5)\n",
    "ax.tick_params(axis ='both',which='both', direction='in')\n",
    "ax.tick_params(axis ='both',which='major', length=8)\n",
    "ax.tick_params(axis = 'both')\n",
    "ax.tick_params(axis='both',labelsize=23)\n",
    "ax.yaxis.set_ticks_position('both')\n",
    "ax.xaxis.set_ticks_position('both')\n",
    "ax.legend(loc=2,fontsize=16,frameon=False)\n",
    "\n",
    "plt.tight_layout()\n",
    "#plt.savefig('/home/judy/Dropbox/Research/Phaethon/fig1.pdf',format='pdf')\n",
    "plt.show()"
   ]
  },
  {
   "cell_type": "code",
   "execution_count": null,
   "metadata": {},
   "outputs": [],
   "source": []
  }
 ],
 "metadata": {
  "kernelspec": {
   "display_name": "Python 3",
   "language": "python",
   "name": "python3"
  },
  "language_info": {
   "codemirror_mode": {
    "name": "ipython",
    "version": 3
   },
   "file_extension": ".py",
   "mimetype": "text/x-python",
   "name": "python",
   "nbconvert_exporter": "python",
   "pygments_lexer": "ipython3",
   "version": "3.7.6"
  }
 },
 "nbformat": 4,
 "nbformat_minor": 4
}
